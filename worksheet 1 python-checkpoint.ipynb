{
 "cells": [
  {
   "cell_type": "code",
   "execution_count": 2,
   "metadata": {},
   "outputs": [
    {
     "name": "stdout",
     "output_type": "stream",
     "text": [
      "Enter the number:5\n",
      "Factorial of 5 is 120\n"
     ]
    }
   ],
   "source": [
    "#Q11: Write a python program to find the factorial of a number\n",
    "\n",
    "import math as mt\n",
    "def fact(a):  \n",
    "    return(mt.factorial(a))  \n",
    "  \n",
    "num = int(input(\"Enter the number:\"))  \n",
    "f = fact(num)  \n",
    "print(\"Factorial of\", num, \"is\", f)"
   ]
  },
  {
   "cell_type": "code",
   "execution_count": 3,
   "metadata": {},
   "outputs": [
    {
     "name": "stdout",
     "output_type": "stream",
     "text": [
      "enter the number:5\n",
      "5 is a prime number\n"
     ]
    }
   ],
   "source": [
    "#Q12 Write a python program to find whether a number is prime or composite?\n",
    "\n",
    "number=int(input('enter the number:'))\n",
    "if number>1:\n",
    "    for i in range(2,int(number/2)+1):\n",
    "        if (number%i==0):\n",
    "            print(number,'is a composite number')\n",
    "            break\n",
    "        else:\n",
    "            print(number,'is a prime number')"
   ]
  },
  {
   "cell_type": "code",
   "execution_count": 4,
   "metadata": {},
   "outputs": [
    {
     "name": "stdout",
     "output_type": "stream",
     "text": [
      "Enter a string:madam\n",
      "The string is a palindrome\n"
     ]
    }
   ],
   "source": [
    "#Q13 Write a python program to check whether a given string is palindrome or not?\n",
    "\n",
    "string=input(\"Enter a string:\")\n",
    "if(string==string[::-1]):\n",
    "      print(\"The string is a palindrome\")\n",
    "else:\n",
    "      print(\"Not a palindrome\")"
   ]
  },
  {
   "cell_type": "code",
   "execution_count": 5,
   "metadata": {},
   "outputs": [
    {
     "name": "stdout",
     "output_type": "stream",
     "text": [
      "the value of ab is:3\n",
      "the value bc is:6\n",
      "the value of ac is: 6.708203932499369\n"
     ]
    }
   ],
   "source": [
    "#Q14 Write a Python program to get the third side of right-angled triangle from two given sides?\n",
    "from math import sqrt\n",
    "ab=float(input('the value of ab is:'))\n",
    "bc= float(input('the value bc is:'))\n",
    "ac=sqrt(ab**2+bc**2)\n",
    "print('the value of ac is:',ac)"
   ]
  },
  {
   "cell_type": "code",
   "execution_count": 6,
   "metadata": {},
   "outputs": [
    {
     "name": "stdout",
     "output_type": "stream",
     "text": [
      "enter the valueshubham garg\n",
      "Counter({'h': 2, 'a': 2, 'g': 2, 's': 1, 'u': 1, 'b': 1, 'm': 1, ' ': 1, 'r': 1})\n"
     ]
    }
   ],
   "source": [
    "#Q15 Write a python program to print the frequency of each of the characters present in a given string\n",
    "\n",
    "from collections import Counter\n",
    "print(Counter(input('enter the value')))"
   ]
  },
  {
   "cell_type": "code",
   "execution_count": null,
   "metadata": {},
   "outputs": [],
   "source": []
  }
 ],
 "metadata": {
  "kernelspec": {
   "display_name": "Python 3",
   "language": "python",
   "name": "python3"
  },
  "language_info": {
   "codemirror_mode": {
    "name": "ipython",
    "version": 3
   },
   "file_extension": ".py",
   "mimetype": "text/x-python",
   "name": "python",
   "nbconvert_exporter": "python",
   "pygments_lexer": "ipython3",
   "version": "3.8.5"
  }
 },
 "nbformat": 4,
 "nbformat_minor": 4
}
